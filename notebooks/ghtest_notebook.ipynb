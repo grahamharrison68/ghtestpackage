{
 "cells": [
  {
   "cell_type": "code",
   "execution_count": 1,
   "metadata": {},
   "outputs": [],
   "source": [
    "import sys"
   ]
  },
  {
   "cell_type": "code",
   "execution_count": 2,
   "metadata": {},
   "outputs": [
    {
     "data": {
      "text/plain": [
       "['c:\\\\Users\\\\GHarr\\\\OneDrive - Lincoln College\\\\Python Projects\\\\Packages\\\\ghtestpackage\\\\notebooks',\n",
       " 'c:\\\\Users\\\\GHarr\\\\anaconda3\\\\envs\\\\project-env\\\\python310.zip',\n",
       " 'c:\\\\Users\\\\GHarr\\\\anaconda3\\\\envs\\\\project-env\\\\DLLs',\n",
       " 'c:\\\\Users\\\\GHarr\\\\anaconda3\\\\envs\\\\project-env\\\\lib',\n",
       " 'c:\\\\Users\\\\GHarr\\\\anaconda3\\\\envs\\\\project-env',\n",
       " '',\n",
       " 'C:\\\\Users\\\\GHarr\\\\AppData\\\\Roaming\\\\Python\\\\Python310\\\\site-packages',\n",
       " 'c:\\\\Users\\\\GHarr\\\\anaconda3\\\\envs\\\\project-env\\\\lib\\\\site-packages',\n",
       " 'C:\\\\Users\\\\GHarr\\\\OneDrive - Lincoln College\\\\Python Projects\\\\Packages',\n",
       " 'c:\\\\Users\\\\GHarr\\\\anaconda3\\\\envs\\\\project-env\\\\lib\\\\site-packages\\\\win32',\n",
       " 'c:\\\\Users\\\\GHarr\\\\anaconda3\\\\envs\\\\project-env\\\\lib\\\\site-packages\\\\win32\\\\lib',\n",
       " 'c:\\\\Users\\\\GHarr\\\\anaconda3\\\\envs\\\\project-env\\\\lib\\\\site-packages\\\\Pythonwin']"
      ]
     },
     "execution_count": 2,
     "metadata": {},
     "output_type": "execute_result"
    }
   ],
   "source": [
    "sys.path"
   ]
  },
  {
   "cell_type": "markdown",
   "metadata": {},
   "source": [
    "To add a directory to sys.path in Anaconda, you can create a .pth file in the site-packages directory. This file should contain the path(s) you want to add. Here's how you can do it:\n",
    "\n",
    "Navigate to the site-packages directory in your Anaconda environment. You can typically find this directory at AnacondaInstallationDirectory/Lib/site-packages.\n",
    "\n",
    "Create a new text file with a .pth extension, such as mypackages.pth.\n",
    "\n",
    "Open the .pth file in a text editor and add the directory path you want to add to sys.path on a new line. For example:\n",
    "\n",
    "makefile\n",
    "Copy code\n",
    "C:\\Users\\GHarr\\OneDrive - Lincoln College\\Python Projects\\Packages\n",
    "Save the .pth file and close the text editor.\n",
    "\n",
    "Restart your Python interpreter or Jupyter Notebook kernel.\n",
    "\n",
    "After following these steps, the directory you specified in the .pth file will be added to sys.path automatically whenever you start a Python interpreter or a Jupyter Notebook kernel in that Anaconda environment. This allows you to import modules from that directory without manually modifying sys.path each time."
   ]
  },
  {
   "cell_type": "code",
   "execution_count": 3,
   "metadata": {},
   "outputs": [],
   "source": [
    "from ghtestpackage.common import BaseLearner\n",
    "from ghtestpackage.algorithms import Fisher"
   ]
  },
  {
   "cell_type": "code",
   "execution_count": 4,
   "metadata": {},
   "outputs": [
    {
     "name": "stderr",
     "output_type": "stream",
     "text": [
      "ic| 'BaseLearner.init'\n"
     ]
    }
   ],
   "source": [
    "baselearner = BaseLearner()"
   ]
  },
  {
   "cell_type": "code",
   "execution_count": 5,
   "metadata": {},
   "outputs": [
    {
     "name": "stderr",
     "output_type": "stream",
     "text": [
      "ic| 'BaseLearner.init'\n",
      "ic| 'fisher.init'\n"
     ]
    }
   ],
   "source": [
    "fisher = Fisher()"
   ]
  },
  {
   "cell_type": "code",
   "execution_count": 6,
   "metadata": {},
   "outputs": [
    {
     "name": "stderr",
     "output_type": "stream",
     "text": [
      "ic| 'BaseLearner.test'\n"
     ]
    },
    {
     "data": {
      "text/plain": [
       "'test'"
      ]
     },
     "execution_count": 6,
     "metadata": {},
     "output_type": "execute_result"
    }
   ],
   "source": [
    "fisher.test()"
   ]
  },
  {
   "cell_type": "code",
   "execution_count": 9,
   "metadata": {},
   "outputs": [],
   "source": [
    "from icecream import ic"
   ]
  },
  {
   "cell_type": "code",
   "execution_count": 11,
   "metadata": {},
   "outputs": [
    {
     "name": "stderr",
     "output_type": "stream",
     "text": [
      "ic| 'BaseLearner.init'\n",
      "ic| 'BaseLearner.init'\n",
      "ic| 'fisher.init'\n",
      "ic| 'BaseLearner.test'\n"
     ]
    },
    {
     "data": {
      "text/plain": [
       "'test'"
      ]
     },
     "execution_count": 11,
     "metadata": {},
     "output_type": "execute_result"
    }
   ],
   "source": [
    "from ghtestpackage.common import BaseLearner\n",
    "from ghtestpackage.algorithms import Fisher\n",
    "\n",
    "baselearner = BaseLearner()\n",
    "fisher = Fisher()\n",
    "\n",
    "fisher.test()"
   ]
  }
 ],
 "metadata": {
  "kernelspec": {
   "display_name": "project-env",
   "language": "python",
   "name": "python3"
  },
  "language_info": {
   "codemirror_mode": {
    "name": "ipython",
    "version": 3
   },
   "file_extension": ".py",
   "mimetype": "text/x-python",
   "name": "python",
   "nbconvert_exporter": "python",
   "pygments_lexer": "ipython3",
   "version": "3.10.9"
  }
 },
 "nbformat": 4,
 "nbformat_minor": 2
}
