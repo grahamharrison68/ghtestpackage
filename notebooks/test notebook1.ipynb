{
 "cells": [
  {
   "cell_type": "code",
   "execution_count": 1,
   "metadata": {},
   "outputs": [],
   "source": [
    "from icecream import ic\n",
    "\n",
    "#from pycausalwhy.dag import Pos\n",
    "from pycausalwhy.dag import Node\n",
    "#from pycausalwhy.dag import Nodes\n",
    "\n",
    "from pycausalwhy.dag import DirectedAcyclicGraph\n"
   ]
  },
  {
   "cell_type": "code",
   "execution_count": 2,
   "metadata": {},
   "outputs": [],
   "source": [
    "ic.disable()"
   ]
  },
  {
   "cell_type": "code",
   "execution_count": 3,
   "metadata": {},
   "outputs": [],
   "source": [
    "treatment = \"X\"\n",
    "outcome = \"Y\"\n",
    "edges = [('W', 'Y'), ('X', 'W'), ('Z1', 'X'), ('Z1', 'Z3'), ('Z2', 'Y'), ('Z2', 'Z3'), ('Z3', 'X'), ('Z3', 'Y')]\n",
    "unobserved_confounders = []\n",
    "pos = {'X': [1, 1], 'Z1': [1, 3], 'W': [2, 1.25], 'Z3': [2, 2.25], 'Y': [3, 1], 'Z2': [3, 3]}\n"
   ]
  },
  {
   "cell_type": "code",
   "execution_count": 4,
   "metadata": {},
   "outputs": [
    {
     "data": {
      "text/plain": [
       "[1, 1]"
      ]
     },
     "execution_count": 4,
     "metadata": {},
     "output_type": "execute_result"
    }
   ],
   "source": [
    "pos[\"X\"]"
   ]
  },
  {
   "cell_type": "code",
   "execution_count": 5,
   "metadata": {},
   "outputs": [],
   "source": [
    "dag = DirectedAcyclicGraph(treatment=treatment, outcome=outcome, edges=edges, unobserved_confounders=unobserved_confounders, pos=pos)"
   ]
  },
  {
   "cell_type": "code",
   "execution_count": 6,
   "metadata": {},
   "outputs": [
    {
     "data": {
      "text/plain": [
       "['W', 'X', 'Y', 'Z1', 'Z2', 'Z3']"
      ]
     },
     "execution_count": 6,
     "metadata": {},
     "output_type": "execute_result"
    }
   ],
   "source": [
    "list(dag._digraph.nodes)"
   ]
  },
  {
   "cell_type": "code",
   "execution_count": 7,
   "metadata": {},
   "outputs": [
    {
     "name": "stdout",
     "output_type": "stream",
     "text": [
      "{'W': Node(name=W, is_treatment=False, is_outcome=False, unobserved=False), 'X': Node(name=X, is_treatment=True, is_outcome=False, unobserved=False), 'Y': Node(name=Y, is_treatment=False, is_outcome=True, unobserved=False), 'Z1': Node(name=Z1, is_treatment=False, is_outcome=False, unobserved=False), 'Z2': Node(name=Z2, is_treatment=False, is_outcome=False, unobserved=False), 'Z3': Node(name=Z3, is_treatment=False, is_outcome=False, unobserved=False)}\n"
     ]
    }
   ],
   "source": [
    "print(dag.nodes)"
   ]
  },
  {
   "cell_type": "code",
   "execution_count": 8,
   "metadata": {},
   "outputs": [
    {
     "data": {
      "text/plain": [
       "[Node(name=W, is_treatment=False, is_outcome=False, unobserved=False),\n",
       " Node(name=X, is_treatment=True, is_outcome=False, unobserved=False),\n",
       " Node(name=Y, is_treatment=False, is_outcome=True, unobserved=False),\n",
       " Node(name=Z1, is_treatment=False, is_outcome=False, unobserved=False),\n",
       " Node(name=Z2, is_treatment=False, is_outcome=False, unobserved=False),\n",
       " Node(name=Z3, is_treatment=False, is_outcome=False, unobserved=False)]"
      ]
     },
     "execution_count": 8,
     "metadata": {},
     "output_type": "execute_result"
    }
   ],
   "source": [
    "list(dag.nodes.values())"
   ]
  },
  {
   "cell_type": "code",
   "execution_count": 9,
   "metadata": {},
   "outputs": [
    {
     "name": "stdout",
     "output_type": "stream",
     "text": [
      "Node(name=W, is_treatment=False, is_outcome=False, unobserved=False)\n",
      "Node(name=X, is_treatment=True, is_outcome=False, unobserved=False)\n",
      "Node(name=Y, is_treatment=False, is_outcome=True, unobserved=False)\n",
      "Node(name=Z1, is_treatment=False, is_outcome=False, unobserved=False)\n",
      "Node(name=Z2, is_treatment=False, is_outcome=False, unobserved=False)\n",
      "Node(name=Z3, is_treatment=False, is_outcome=False, unobserved=False)\n"
     ]
    }
   ],
   "source": [
    "for node in dag.nodes.values():\n",
    "    print(node)"
   ]
  },
  {
   "cell_type": "code",
   "execution_count": 10,
   "metadata": {},
   "outputs": [
    {
     "name": "stdout",
     "output_type": "stream",
     "text": [
      "Node(name=Z1, is_treatment=False, is_outcome=False, unobserved=False)\n",
      "Node(name=Z3, is_treatment=False, is_outcome=False, unobserved=False)\n"
     ]
    }
   ],
   "source": [
    "for node in dag.nodes[\"X\"].parents.values():\n",
    "    print(node)"
   ]
  },
  {
   "cell_type": "code",
   "execution_count": 11,
   "metadata": {},
   "outputs": [
    {
     "name": "stdout",
     "output_type": "stream",
     "text": [
      "Node(name=Z3, is_treatment=False, is_outcome=False, unobserved=False)\n",
      "Node(name=Z2, is_treatment=False, is_outcome=False, unobserved=False)\n",
      "Node(name=Z1, is_treatment=False, is_outcome=False, unobserved=False)\n"
     ]
    }
   ],
   "source": [
    "for node in dag.nodes[\"X\"].ancestors.values():\n",
    "    print(node)"
   ]
  },
  {
   "cell_type": "code",
   "execution_count": 12,
   "metadata": {},
   "outputs": [
    {
     "name": "stdout",
     "output_type": "stream",
     "text": [
      "Node(name=W, is_treatment=False, is_outcome=False, unobserved=False)\n"
     ]
    }
   ],
   "source": [
    "for node in dag.nodes[\"X\"].children.values():\n",
    "    print(node)"
   ]
  },
  {
   "cell_type": "code",
   "execution_count": 13,
   "metadata": {},
   "outputs": [
    {
     "name": "stdout",
     "output_type": "stream",
     "text": [
      "Node(name=W, is_treatment=False, is_outcome=False, unobserved=False)\n",
      "Node(name=Y, is_treatment=False, is_outcome=True, unobserved=False)\n"
     ]
    }
   ],
   "source": [
    "for node in dag.nodes[\"X\"].descendants.values():\n",
    "    print(node)"
   ]
  },
  {
   "cell_type": "code",
   "execution_count": 14,
   "metadata": {},
   "outputs": [
    {
     "name": "stdout",
     "output_type": "stream",
     "text": [
      "Node(name=Z2, is_treatment=False, is_outcome=False, unobserved=False)\n"
     ]
    }
   ],
   "source": [
    "for node in dag.nodes[\"X\"].non_descendants.values():\n",
    "    print(node)"
   ]
  },
  {
   "cell_type": "code",
   "execution_count": 15,
   "metadata": {},
   "outputs": [
    {
     "data": {
      "text/plain": [
       "[Node(name=W, is_treatment=False, is_outcome=False, unobserved=False),\n",
       " Node(name=X, is_treatment=True, is_outcome=False, unobserved=False),\n",
       " Node(name=Y, is_treatment=False, is_outcome=True, unobserved=False),\n",
       " Node(name=Z1, is_treatment=False, is_outcome=False, unobserved=False),\n",
       " Node(name=Z2, is_treatment=False, is_outcome=False, unobserved=False),\n",
       " Node(name=Z3, is_treatment=False, is_outcome=False, unobserved=False)]"
      ]
     },
     "execution_count": 15,
     "metadata": {},
     "output_type": "execute_result"
    }
   ],
   "source": [
    "list(dag.nodes.values())"
   ]
  },
  {
   "cell_type": "code",
   "execution_count": 16,
   "metadata": {},
   "outputs": [
    {
     "data": {
      "text/plain": [
       "{'W': Node(name=W, is_treatment=False, is_outcome=False, unobserved=False),\n",
       " 'X': Node(name=X, is_treatment=True, is_outcome=False, unobserved=False),\n",
       " 'Y': Node(name=Y, is_treatment=False, is_outcome=True, unobserved=False),\n",
       " 'Z1': Node(name=Z1, is_treatment=False, is_outcome=False, unobserved=False),\n",
       " 'Z2': Node(name=Z2, is_treatment=False, is_outcome=False, unobserved=False),\n",
       " 'Z3': Node(name=Z3, is_treatment=False, is_outcome=False, unobserved=False)}"
      ]
     },
     "execution_count": 16,
     "metadata": {},
     "output_type": "execute_result"
    }
   ],
   "source": [
    "dag.nodes"
   ]
  },
  {
   "cell_type": "code",
   "execution_count": 17,
   "metadata": {},
   "outputs": [
    {
     "data": {
      "text/plain": [
       "Node(name=W, is_treatment=False, is_outcome=False, unobserved=False)"
      ]
     },
     "execution_count": 17,
     "metadata": {},
     "output_type": "execute_result"
    }
   ],
   "source": [
    "dag.nodes[\"W\"]"
   ]
  },
  {
   "cell_type": "code",
   "execution_count": 18,
   "metadata": {},
   "outputs": [
    {
     "name": "stdout",
     "output_type": "stream",
     "text": [
      "Node(name=Z2, is_treatment=False, is_outcome=False, unobserved=False)\n",
      "Node(name=Z3, is_treatment=False, is_outcome=False, unobserved=False)\n"
     ]
    }
   ],
   "source": [
    "for node_name in list(dag.nodes.keys())[-2:]:\n",
    "    print(dag.nodes[node_name])"
   ]
  }
 ],
 "metadata": {
  "kernelspec": {
   "display_name": "project-env",
   "language": "python",
   "name": "python3"
  },
  "language_info": {
   "codemirror_mode": {
    "name": "ipython",
    "version": 3
   },
   "file_extension": ".py",
   "mimetype": "text/x-python",
   "name": "python",
   "nbconvert_exporter": "python",
   "pygments_lexer": "ipython3",
   "version": "3.10.9"
  }
 },
 "nbformat": 4,
 "nbformat_minor": 2
}
